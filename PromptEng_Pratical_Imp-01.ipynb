{
 "cells": [
  {
   "cell_type": "code",
   "execution_count": 36,
   "id": "e1969acf",
   "metadata": {},
   "outputs": [],
   "source": [
    "from secret_key import OpenAIapi_key\n",
    "import os\n",
    "os.environ['OPENAI_API_KEY'] = OpenAIapi_key"
   ]
  },
  {
   "cell_type": "code",
   "execution_count": 49,
   "id": "fbed0a58",
   "metadata": {},
   "outputs": [
    {
     "name": "stdout",
     "output_type": "stream",
     "text": [
      "\n",
      "\n",
      "Lead Actor: Shah Rukh Khan \n",
      "Real-wife: Gauri Khan\n"
     ]
    }
   ],
   "source": [
    "from langchain.llms import OpenAI\n",
    "\n",
    "llm = OpenAI(temperature=0.6)\n",
    "name = llm('Lead Actor name from Dilwale movie. then real-wife name of actor')\n",
    "\n",
    "print(name)"
   ]
  },
  {
   "cell_type": "code",
   "execution_count": 41,
   "id": "9ba12b03",
   "metadata": {},
   "outputs": [
    {
     "data": {
      "text/plain": [
       "'Lead Actor name from URI .'"
      ]
     },
     "execution_count": 41,
     "metadata": {},
     "output_type": "execute_result"
    }
   ],
   "source": [
    "from langchain.prompts import PromptTemplate\n",
    "\n",
    "prompt_template_name = PromptTemplate(\n",
    "    input_variables = ['movie'],\n",
    "    template = \"Lead Actor name from {movie} .\"\n",
    ")\n",
    "\n",
    "prompt_template_name.format(movie = 'URI')"
   ]
  },
  {
   "cell_type": "code",
   "execution_count": 47,
   "id": "1c2115d5",
   "metadata": {},
   "outputs": [
    {
     "name": "stdout",
     "output_type": "stream",
     "text": [
      "\n",
      "\n",
      "Hrithik Roshan\n"
     ]
    }
   ],
   "source": [
    "from langchain.chains import LLMChain\n",
    "\n",
    "chain = LLMChain(llm=llm, prompt=prompt_template_name)\n",
    "print(chain.run('Super-30'))"
   ]
  },
  {
   "cell_type": "code",
   "execution_count": 93,
   "id": "4dd18706",
   "metadata": {},
   "outputs": [],
   "source": [
    "llm = OpenAI(temperature = 0.9)\n",
    "\n",
    "prompt_template_name = PromptTemplate(\n",
    "    input_variables = ['movie'],\n",
    "    template = \"Lead Actor name from {movie} .\"\n",
    ")\n",
    "\n",
    "first_chain = LLMChain(llm=llm, prompt=prompt_template_name, output_key='actor_name')\n",
    "\n",
    "prompt_template_name = PromptTemplate(\n",
    "    input_variables = ['actor_name'],\n",
    "    template = \"Then wife name of {actor_name} .\"\n",
    ")\n",
    "\n",
    "second_chain = LLMChain(llm=llm, prompt=prompt_template_name, output_key = 'wife_name' )"
   ]
  },
  {
   "cell_type": "code",
   "execution_count": 94,
   "id": "2bf82a07",
   "metadata": {},
   "outputs": [
    {
     "name": "stdout",
     "output_type": "stream",
     "text": [
      "\n",
      "\n",
      "Gauri Khan\n"
     ]
    }
   ],
   "source": [
    "from langchain.chains import SimpleSequentialChain\n",
    "\n",
    "chain = SimpleSequentialChain(chains = [first_chain, second_chain])\n",
    "\n",
    "response = chain.run('Dilwale')\n",
    "\n",
    "print(response)"
   ]
  },
  {
   "cell_type": "code",
   "execution_count": 103,
   "id": "1e788da7",
   "metadata": {},
   "outputs": [
    {
     "data": {
      "text/plain": [
       "{'movie': 'Dilwale',\n",
       " 'actor_name': '\\n\\nShah Rukh Khan',\n",
       " 'wife_name': '\\n\\nGauri Khan'}"
      ]
     },
     "execution_count": 103,
     "metadata": {},
     "output_type": "execute_result"
    }
   ],
   "source": [
    "from langchain.chains import SequentialChain\n",
    "\n",
    "chain = SequentialChain(\n",
    "    chains = [first_chain, second_chain],\n",
    "    input_variables = ['movie'],\n",
    "    output_variables = ['actor_name', 'wife_name']\n",
    "    \n",
    ")\n",
    "\n",
    "chain({'movie': \"Dilwale\"})"
   ]
  },
  {
   "cell_type": "markdown",
   "id": "8103833e",
   "metadata": {},
   "source": [
    "## Agents"
   ]
  },
  {
   "cell_type": "code",
   "execution_count": 111,
   "id": "e761eadb",
   "metadata": {},
   "outputs": [
    {
     "name": "stdout",
     "output_type": "stream",
     "text": [
      "\n",
      "\n",
      "\u001b[1m> Entering new AgentExecutor chain...\u001b[0m\n",
      "\u001b[32;1m\u001b[1;3m I need to do a research on this\n",
      "Action: Wikipedia\n",
      "Action Input: ShahRukh Khan\u001b[0m\n",
      "Observation: \u001b[36;1m\u001b[1;3mPage: Shah Rukh Khan\n",
      "Summary: Shah Rukh Khan (pronounced [ˈʃɑːɦɾʊx xɑːn]; born 2 November 1965), also known by the initialism SRK, is an Indian actor and film producer who works in Hindi films. Referred to in the media as the \"Baadshah of Bollywood\" and \"King Khan\", he has appeared in more than 90 films, and earned numerous accolades, including 14 Filmfare Awards. He has been awarded the Padma Shri by the Government of India, as well as the Ordre des Arts et des Lettres and Legion of Honour by the Government of France. Khan has a significant following in Asia and the Indian diaspora worldwide. In terms of audience size and income, several media outlets have described him as one of the most successful film stars in the world. Many of his films thematise Indian national identity and connections with diaspora communities, or gender, racial, social and religious differences and grievances.\n",
      "Khan began his career with appearances in several television series in the late 1980s and made his Bollywood debut in 1992 with Deewana. He was initially recognised for playing villainous roles in the films Baazigar (1993) and Darr (1993). Khan established himself by starring in a series of top-grossing romantic films, including Dilwale Dulhania Le Jayenge (1995), Dil To Pagal Hai (1997), Kuch Kuch Hota Hai (1998), Mohabbatein (2000), Kabhi Khushi Kabhie Gham... (2001), Kal Ho Naa Ho (2003), Veer-Zaara (2004) and Kabhi Alvida Naa Kehna (2006). He earned critical acclaim for his portrayal of an alcoholic in Devdas (2002), a NASA scientist in Swades (2004), a hockey coach in Chak De! India (2007), and a man with Asperger syndrome in My Name Is Khan (2010). Further commercial successes came with the romances Om Shanti Om (2007) and Rab Ne Bana Di Jodi (2008), and with his expansion to comedies in Chennai Express (2013) and Happy New Year (2014). Following a brief setback and hiatus, Khan made a career comeback with the 2023 action films Pathaan and Jawan, both of which rank among the highest-grossing Hindi films.\n",
      "As of 2015, Khan is co-chairman of the motion picture production company Red Chillies Entertainment and its subsidiaries and is the co-owner of the Indian Premier League cricket team Kolkata Knight Riders and the Caribbean Premier League team Trinbago Knight Riders. The media often label him as \"Brand SRK\" because of his many endorsement and entrepreneurship ventures. He is a frequent television presenter and stage show performer. Khan's philanthropic endeavours have provided health care and disaster relief, and he was honoured with UNESCO's Pyramide con Marni award in 2011 for his support of children's education and the World Economic Forum's Crystal Award in 2018 for advocating for women's and children's rights in India. He regularly features in listings of the most influential people in Indian culture, and in 2008, Newsweek named him one of their fifty most powerful people in the world. In 2022, Khan was voted one of the 50 greatest actors of all time in a readers' poll by Empire, and in 2023, Time magazine named him one of the 100 most influential people in the world.\n",
      "\n",
      "\n",
      "\n",
      "Page: Shah Rukh Khan filmography\n",
      "Summary: Shah Rukh Khan is an Indian actor, producer and television personality who works in Hindi films. He began his acting career by playing a soldier in the Doordarshan series Fauji (1988), a role that garnered him recognition and led to starring roles in more television shows. He soon started receiving film offers and had his first release with the romantic drama Deewana (1992), in which he played a supporting part. Khan subsequently played villainous roles in the 1993 thrillers Baazigar and Darr, box office successes that established his career in Bollywood. In 1995, Khan starred opposite Kajol in Aditya Chopra's romance Dilwale Dulhania Le Jayenge, that became the longest running Indian film of all time. He continued to establish a reputation in romantic roles by playing opposite Madhuri Dixit in Dil To Pagal Hai (1997), and Kajo\u001b[0m\n",
      "Thought:\u001b[32;1m\u001b[1;3m SRK was born in 1965 and is now 58 years old in 2023.\n",
      "Final Answer: Shah Rukh Khan was born on November 2nd 1965, and is now 58 years old in 2023.\u001b[0m\n",
      "\n",
      "\u001b[1m> Finished chain.\u001b[0m\n"
     ]
    },
    {
     "data": {
      "text/plain": [
       "'Shah Rukh Khan was born on November 2nd 1965, and is now 58 years old in 2023.'"
      ]
     },
     "execution_count": 111,
     "metadata": {},
     "output_type": "execute_result"
    }
   ],
   "source": [
    "from langchain.agents import AgentType, initialize_agent, load_tools\n",
    "from langchain.llms import OpenAI\n",
    "\n",
    "tools = load_tools(['wikipedia', 'llm-math'], llm=llm)\n",
    "\n",
    "agent = initialize_agent(\n",
    "    tools,\n",
    "    llm,\n",
    "    agent=AgentType.ZERO_SHOT_REACT_DESCRIPTION,\n",
    "    verbose=True\n",
    ")\n",
    "\n",
    "agent.run('when was ShahRukh Khan born? what is his age right now in 2023')"
   ]
  },
  {
   "cell_type": "markdown",
   "id": "2c5b87cd",
   "metadata": {},
   "source": [
    "## Memory"
   ]
  },
  {
   "cell_type": "code",
   "execution_count": 118,
   "id": "39016dd0",
   "metadata": {},
   "outputs": [
    {
     "name": "stdout",
     "output_type": "stream",
     "text": [
      "The following is a friendly conversation between a human and an AI. The AI is talkative and provides lots of specific details from its context. If the AI does not know the answer to a question, it truthfully says it does not know.\n",
      "\n",
      "Current conversation:\n",
      "{history}\n",
      "Human: {input}\n",
      "AI:\n"
     ]
    }
   ],
   "source": [
    "from langchain.chains import ConversationChain\n",
    "\n",
    "convo = ConversationChain(\n",
    "    llm = OpenAI(temperature=0.6)\n",
    ")\n",
    "print(convo.prompt.template)"
   ]
  },
  {
   "cell_type": "code",
   "execution_count": 119,
   "id": "58fa5fd5",
   "metadata": {},
   "outputs": [
    {
     "data": {
      "text/plain": [
       "' The 2019 cricket world cup was won by England. They defeated New Zealand in the final, with the game being decided on boundary count after a tied Super Over.'"
      ]
     },
     "execution_count": 119,
     "metadata": {},
     "output_type": "execute_result"
    }
   ],
   "source": [
    "convo.run('Who won the 2019 cricket world cup?')"
   ]
  },
  {
   "cell_type": "code",
   "execution_count": 120,
   "id": "72e841a0",
   "metadata": {},
   "outputs": [
    {
     "data": {
      "text/plain": [
       "' AI stands for Artificial Intelligence. It is a field of computer science that focuses on creating machines that can think and act like humans. AI systems can be trained to analyze data, recognize patterns, make decisions, and even learn from their own experiences.'"
      ]
     },
     "execution_count": 120,
     "metadata": {},
     "output_type": "execute_result"
    }
   ],
   "source": [
    "convo.run('explain AI')"
   ]
  },
  {
   "cell_type": "code",
   "execution_count": 121,
   "id": "32011e25",
   "metadata": {},
   "outputs": [
    {
     "data": {
      "text/plain": [
       "' The captain of the winning team in the 2019 cricket world cup was Eoin Morgan.'"
      ]
     },
     "execution_count": 121,
     "metadata": {},
     "output_type": "execute_result"
    }
   ],
   "source": [
    "convo.run('who was the captain of winning team?')"
   ]
  },
  {
   "cell_type": "code",
   "execution_count": 122,
   "id": "62f05608",
   "metadata": {},
   "outputs": [
    {
     "name": "stdout",
     "output_type": "stream",
     "text": [
      "Human: Who won the 2019 cricket world cup?\n",
      "AI:  The 2019 cricket world cup was won by England. They defeated New Zealand in the final, with the game being decided on boundary count after a tied Super Over.\n",
      "Human: explain AI\n",
      "AI:  AI stands for Artificial Intelligence. It is a field of computer science that focuses on creating machines that can think and act like humans. AI systems can be trained to analyze data, recognize patterns, make decisions, and even learn from their own experiences.\n",
      "Human: who was the captain of winning team?\n",
      "AI:  The captain of the winning team in the 2019 cricket world cup was Eoin Morgan.\n"
     ]
    }
   ],
   "source": [
    "print(convo.memory.buffer)"
   ]
  },
  {
   "cell_type": "code",
   "execution_count": 123,
   "id": "15f177af",
   "metadata": {},
   "outputs": [
    {
     "data": {
      "text/plain": [
       "' The 2015 ICC Cricket World Cup was won by Australia. They beat New Zealand by 7 wickets in the final match.'"
      ]
     },
     "execution_count": 123,
     "metadata": {},
     "output_type": "execute_result"
    }
   ],
   "source": [
    "from langchain.memory import ConversationBufferWindowMemory\n",
    "\n",
    "memory = ConversationBufferWindowMemory(k=1)\n",
    "\n",
    "convo = ConversationChain(\n",
    "    llm = OpenAI(temperature=0.6),\n",
    "    memory = memory\n",
    ")\n",
    "convo.run('Who won the 2015 cricket world cup?')"
   ]
  },
  {
   "cell_type": "code",
   "execution_count": 125,
   "id": "a322847a",
   "metadata": {},
   "outputs": [
    {
     "data": {
      "text/plain": [
       "\" Agra is best known for the iconic Taj Mahal, one of the seven wonders of the world and a UNESCO World Heritage Site. It is also home to several other monuments and historic sites, such as the Agra Fort, Fatehpur Sikri, and Sikandara Akbar's Tomb.\""
      ]
     },
     "execution_count": 125,
     "metadata": {},
     "output_type": "execute_result"
    }
   ],
   "source": [
    "convo.run('why Agra famous?')"
   ]
  },
  {
   "cell_type": "code",
   "execution_count": 126,
   "id": "51dd90de",
   "metadata": {},
   "outputs": [
    {
     "data": {
      "text/plain": [
       "\" I don't know.\""
      ]
     },
     "execution_count": 126,
     "metadata": {},
     "output_type": "execute_result"
    }
   ],
   "source": [
    "convo.run('who was the captain of winning team?')"
   ]
  },
  {
   "cell_type": "code",
   "execution_count": 127,
   "id": "f49fef2c",
   "metadata": {},
   "outputs": [
    {
     "name": "stdout",
     "output_type": "stream",
     "text": [
      "Human: who was the captain of winning team?\n",
      "AI:  I don't know.\n"
     ]
    }
   ],
   "source": [
    "print(convo.memory.buffer)"
   ]
  }
 ],
 "metadata": {
  "kernelspec": {
   "display_name": "Python 3 (ipykernel)",
   "language": "python",
   "name": "python3"
  },
  "language_info": {
   "codemirror_mode": {
    "name": "ipython",
    "version": 3
   },
   "file_extension": ".py",
   "mimetype": "text/x-python",
   "name": "python",
   "nbconvert_exporter": "python",
   "pygments_lexer": "ipython3",
   "version": "3.9.12"
  }
 },
 "nbformat": 4,
 "nbformat_minor": 5
}
